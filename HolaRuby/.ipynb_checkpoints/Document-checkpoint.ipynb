{
 "cells": [
  {
   "cell_type": "markdown",
   "id": "ce619a46-c0e8-45eb-b477-6c51641a1f9a",
   "metadata": {},
   "source": [
    "# Introduccion a Ruby\n",
    "## Parte 1: Arreglos, hashes y enumerables"
   ]
  },
  {
   "cell_type": "code",
   "execution_count": null,
   "id": "b4f9d2ae-1ffe-45b9-a703-db9c3882713c",
   "metadata": {},
   "outputs": [],
   "source": [
    "def sum(array)\n",
    "  sum = 0\n",
    "  # Sumamos cada elemento de nuestro array\n",
    "  array.each do |a|\n",
    "    sum += a\n",
    "  end\n",
    "  sum\n",
    "end\n",
    "\n",
    "def max_2_sum(array)\n",
    "  # Si el arreglo está vacío, devuelve cero\n",
    "  return 0 if array.empty?\n",
    "\n",
    "  # Si el arreglo tiene solo un elemento, devuelve ese elemento\n",
    "  return array.first if array.length == 1\n",
    "\n",
    "  # Ordena el arreglo de manera descendente y suma los dos elementos más grandes\n",
    "  sorted_array = array.sort.reverse\n",
    "  sorted_array[0] + sorted_array[1]\n",
    "end\n",
    "\n",
    "def sum_to_n?(array, n)\n",
    "  # Si el arreglo está vacío, devuelve falso\n",
    "  return false if array.empty?\n",
    "\n",
    "  # Comprueba todas las combinaciones de dos elementos en el arreglo\n",
    "  array.combination(2).any? { |a, b| a + b == n }\n",
    "end\n"
   ]
  },
  {
   "cell_type": "markdown",
   "id": "b4fc7213-e80a-4836-aac4-aeb19b61a914",
   "metadata": {},
   "source": [
    "# Parte 2: Cadenas y expresiones regulares"
   ]
  },
  {
   "cell_type": "code",
   "execution_count": null,
   "id": "03bbed97-7020-4364-a873-dd1e434e9073",
   "metadata": {},
   "outputs": [],
   "source": [
    "def hello(name)\n",
    "  \"Hello, \" + name\n",
    "end\n",
    "\n",
    "def starts_with_consonant?(s)\n",
    "  # Verifica si la cadena está vacía\n",
    "  return false if s.nil? || s.empty?\n",
    "  # Creamos nuestra expresion regular\n",
    "  regexp = /[bcdfghjklmnñpqrstvwxyz]/i\n",
    "  s[0].match?(regexp)\n",
    "end\n",
    "\n",
    "def binary_multiple_of_4?(s)\n",
    "  # Verificamos que sea binario\n",
    "  return false unless s =~ /^[01]+$/\n",
    "\n",
    "  # Si termina en 00 es multiplo de 4\n",
    "  if s =~ /00\\z/ || s == '0'\n",
    "    return true\n",
    "  end\n",
    "  false\n",
    "end"
   ]
  },
  {
   "cell_type": "markdown",
   "id": "6208e3af-7efa-4c9b-b83c-2151f74c1d8d",
   "metadata": {},
   "source": [
    "# Part 3: Conceptos básicos de orientación a objetos"
   ]
  },
  {
   "cell_type": "code",
   "execution_count": null,
   "id": "0fabce40-9ab5-40a8-b929-5063248a22d1",
   "metadata": {},
   "outputs": [],
   "source": [
    "class BookInStock\n",
    "  # getter and setter\n",
    "  attr_accessor :isbn, :price\n",
    "\n",
    "  # Constructor\n",
    "  def initialize(isbn, price)\n",
    "    # Si isbn esta vacio o el precio es negativo\n",
    "    if isbn.empty? || price <= 0\n",
    "      return raise ArgumentError # Genera un ArgumentError\n",
    "    end\n",
    "    @isbn = isbn\n",
    "    @price = price\n",
    "  end\n",
    "\n",
    "  # Metodo price_as_string\n",
    "  def price_as_string\n",
    "    format(\"$%.2f\", @price)\n",
    "  end\n",
    "end"
   ]
  },
  {
   "cell_type": "markdown",
   "id": "514bf746-5ed3-42cc-99a4-edaeab318505",
   "metadata": {},
   "source": [
    "## Ejecutamos las pruebas asociadas\n",
    "Podemo verificar nuestro progreso anterior ejecutando lo siguiente:\n",
    "~~~\n",
    "> rspec spec/parte3_spec.rb\n",
    "~~~\n",
    "![Parte 3](/ruta/a/la/imagen.jpg)\r\n"
   ]
  },
  {
   "cell_type": "markdown",
   "id": "27ecf440-96ee-4643-9592-720633d648fd",
   "metadata": {},
   "source": [
    "# Parte 4: Algo de TDD"
   ]
  },
  {
   "cell_type": "markdown",
   "id": "18c1e7f2-b55b-4699-94c9-4253590c6450",
   "metadata": {},
   "source": [
    "# Instalación de Autotest"
   ]
  },
  {
   "cell_type": "raw",
   "id": "acb28591-fbb8-4f68-919f-dd6c01417c0e",
   "metadata": {},
   "source": []
  }
 ],
 "metadata": {
  "kernelspec": {
   "display_name": "Ruby 3.2.2",
   "language": "ruby",
   "name": "ruby"
  },
  "language_info": {
   "file_extension": ".rb",
   "mimetype": "application/x-ruby",
   "name": "ruby",
   "version": "3.2.2"
  }
 },
 "nbformat": 4,
 "nbformat_minor": 5
}
