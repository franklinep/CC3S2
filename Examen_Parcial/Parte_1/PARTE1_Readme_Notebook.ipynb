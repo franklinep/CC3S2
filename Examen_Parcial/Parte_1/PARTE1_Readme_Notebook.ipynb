{
 "cells": [
  {
   "cell_type": "markdown",
   "id": "c476e927-5b37-40be-9230-f01f71cc7356",
   "metadata": {},
   "source": [
    "# Parte 1 Algoritmos, Programación Orientada a Objeto\r\n",
    "\r\n",
    "## Script 1\r\n",
    "Escribe una función que acepte una cadena que contenga todas las letras del alfabeto excepto una y devuelva la letra que falta. Por ejemplo, la cadena \"the quick brown box jumps over a lazy dog\" contiene todas las letras del alfabeto excepto la letra f. La función debe tener una complejidad temporal de O(n)\r\n",
    "## Solución\r\n",
    "Crearemos nuestra función `letra_que_falta` donde:\r\n",
    "* alfabeto : Es un array con todas las letras del alfabeto ingles\r\n",
    "* cadena.chars : Es un array con todas las letras de la\n",
    "\n",
    "**Explicación**\n",
    " Se crea un array alfabeto con todas las letras del alfabeto. Luego, se utiliza la operación de diferencia de conjuntos (-) para encontrar las letras que están en alfabeto pero no están en la cadena de entrada. La función `first` se utiliza para obtener la primera letra que falta en la cadena dada. Si no hay ninguna letra que falte, letra_faltante se establece como nil. Finalmente, se imprime la letra que falta o se muestra nil si todas las letras están presentes en la cadena dada.ra `nil`"
   ]
  },
  {
   "cell_type": "code",
   "execution_count": 1,
   "id": "30307777-5f4d-4e80-b84a-004228feb676",
   "metadata": {},
   "outputs": [
    {
     "name": "stdout",
     "output_type": "stream",
     "text": [
      "La letra que falta es: f\n"
     ]
    }
   ],
   "source": [
    "def letra_que_falta(cadena)\n",
    "  # Crea un array con todas las letras del alfabeto.\n",
    "  alfabeto = (\"a\"..\"z\").to_a\n",
    "\n",
    "  # Eliminamos los letras coincidentes de los arrays\n",
    "  letra_faltante = (alfabeto - cadena.chars).first\n",
    "  # Devuelve la única letra que queda en el array.\n",
    "  return letra_faltante || nil\n",
    "end\n",
    "\n",
    "# Ejemplo\n",
    "cadena = \"the quick brown box jumps over a lazy dog\"\n",
    "letra_faltante = letra_que_falta(cadena)\n",
    "puts \"La letra que falta es: #{letra_faltante}\""
   ]
  },
  {
   "cell_type": "markdown",
   "id": "c7718f18-0297-42be-a48f-d394485aafa2",
   "metadata": {},
   "source": [
    "## Script 2\r\n",
    "2. Un árbol binario ordenado es aquel en el que cada nodo tiene un valor y hasta 2 hijos, cada uno de los cuales es también un árbol binario ordenado, y el valor de cualquier elemento del subárbol izquierdo de un nodo es menor que el valor de cualquier elemento en el subárbol derecho del nodo. Defina una clase colección llamada BinaryTree que ofrezca los métodos de instancia << (insertar elemento), empty? (devuelve cierto si el árbol no tiene elementos) y each (el iterador estándar que devuelve un elemento cada vez, en el orden que tú quieras). (2 puntos)\r\n",
    "3. Extiende la clase de tu árbol binario ordenado para que ofrezca los siguientes métodos, cada uno de los cuales toma un bloque: include?(elt) (devuelve cierto si el árbol incluye a elt), all? (cierto si un bloque dado es cierto para todos los elementos), any? (cierto si un bloque dado es cierto para alguno de sus elementos), sort (ordena los elementos) (1 punto"
   ]
  },
  {
   "cell_type": "code",
   "execution_count": 11,
   "id": "ce94ee6f-2460-45aa-a5a3-1804fef94f21",
   "metadata": {},
   "outputs": [
    {
     "name": "stdout",
     "output_type": "stream",
     "text": [
      "¿El arbol esta vacio?: false\n",
      "Elementos en el árbol: [1, 3, 4, 5, 7]\n",
      "¿El árbol incluye 7? true\n",
      "¿Todos los elementos son mayores que 2? false\n",
      "¿Alguno de los elementos es igual a 10? false\n",
      "Elementos ordenados: [1, 3, 4, 5, 7]\n"
     ]
    }
   ],
   "source": [
    "class BinaryTree\n",
    "  include Enumerable\n",
    "\n",
    "  attr_accessor :valor, :izquierda, :derecha\n",
    "  # --------------------PREGUNTA_2--------------------------\n",
    "  def initialize(valor)\n",
    "    @valor = valor\n",
    "    @izquierda = nil\n",
    "    @derecha = nil\n",
    "  end\n",
    "\n",
    "  def <<(elemento)\n",
    "    if elemento <= @valor\n",
    "      @izquierda ? @izquierda << elemento : @izquierda = ArbolBinario.new(elemento)\n",
    "    else\n",
    "      @derecha ? @derecha << elemento : @derecha = ArbolBinario.new(elemento)\n",
    "    end\n",
    "  end\n",
    "\n",
    "  def empty?\n",
    "    @izquierda.nil? && @derecha.nil?\n",
    "  end\n",
    "\n",
    "  def each(&bloque)\n",
    "    @izquierda.each(&bloque) if @izquierda\n",
    "    yield @valor\n",
    "    @derecha.each(&bloque) if @derecha\n",
    "  end\n",
    "\n",
    "  # -------------------------PREGUNTA_3---------------------------\n",
    "  def include?(elemento)\n",
    "    if elemento == @valor\n",
    "      true\n",
    "    elsif elemento < @valor && @izquierda\n",
    "      @izquierda.incluye?(elemento)\n",
    "    elsif elemento > @valor && @derecha\n",
    "      @derecha.incluye?(elemento)\n",
    "    else\n",
    "      false\n",
    "    end\n",
    "  end\n",
    "\n",
    "  def all?(&bloque)\n",
    "    self.each { |elemento| return false unless yield(elemento) }\n",
    "    true\n",
    "  end\n",
    "\n",
    "  def any?(&bloque)\n",
    "    self.each { |elemento| return true if yield(elemento) }\n",
    "    false\n",
    "  end\n",
    "\n",
    "  def sort\n",
    "    to_a.sort\n",
    "  end\n",
    "end\n",
    "\n",
    "# Ejemplo de uso\n",
    "arbol = BinaryTree.new(5)\n",
    "arbol << 3\n",
    "arbol << 7\n",
    "arbol << 1\n",
    "arbol << 4\n",
    "\n",
    "puts \"¿El arbol esta vacio?: #{arbol.empty?}\"\n",
    "puts \"Elementos en el árbol: #{arbol.to_a}\"\n",
    "\n",
    "puts \"¿El árbol incluye 7? #{arbol.include?(7)}\"\n",
    "puts \"¿Todos los elementos son mayores que 2? #{arbol.all? { |e| e > 2 }}\"\n",
    "puts \"¿Alguno de los elementos es igual a 10? #{arbol.any? { |e| e == 10 }}\"\n",
    "puts \"Elementos ordenados: #{arbol.sort}\"\n"
   ]
  },
  {
   "cell_type": "markdown",
   "id": "f7cd58ee-f026-4053-820d-84c1f3932d12",
   "metadata": {},
   "source": [
    "## Explicación\n",
    "La explicación será dividido por cada pregunta en el paper, explicaremos que es lo que hace cada método para una mayor comprensión de nuestro codigo, y las salidas mostradas anteriormente.\n",
    "\n",
    "**Pregunta 2:**\r\n",
    "\r\n",
    "1. **¿Qué hace el método `initialize(valor)`?**\r\n",
    "   - **Respuesta:** El método `initialize(valor)` es el constructor de la clasBinaryTreerio`. Recibe un parámetro `valor` y crea un nuevo objeto `ArbolBinario` con ese valor. Inicializa los atributos `valor`, `izquierda` y `derecha` del objeto.\r\n",
    "\r\n",
    "2. **¿Qué hace el método `<<(elemento)`?**\r\n",
    "   - **Respuesta:** El método `<<(elemento)` permite insertar un nuevo `elemento` en el árbol binario. Si el `elemento` es menor o igual al `valor` actual del nodo, se inserta en el subárbol izquierdo si existe; de lo contrario, se crea un nuevo subárbol izquierdo. Si el `elemento` es mayor que el `valor` actual del nodo, se inserta en el subárbol derecho si existe; de lo contrario, se crea un nuevo subárbol derecho.\r\n",
    "\r\n",
    "3. **¿Qué hace el método `empty?`?**\r\n",
    "   - **Respuesta:** El método `empty?` verifica si el árbol está vacío. Devuelve `true` si tanto el subárbol izquierdo como el derecho son `nil`, lo que significa que el nodo actual no tiene hijos y, por lo tanto, el árbol está vacío.\r\n",
    "\r\n",
    "4. **¿Qué hace el método `each(&bloque)`?**\r\n",
    "   - **Respuesta:** El método `each(&bloque)` es parte de la implementación del módulo `Enumerable` y permite iterar a través de los elementos del árbol. Utiliza recursión para hacer un recorrido inorden del árbol (izquierda, nodo, derecha) y llama al bloque proporcionado con cada elemento del árbol.\r\n",
    "\r\n",
    "**Pregunta 3:**\r\n",
    "\r\n",
    "1. **¿Qué hace el método `include?(elemento)`?**\r\n",
    "   - **Respuesta:** El método `include?(elemento)` verifica si un `elemento` dado está presente en el árbol. Utiliza una búsqueda binaria para encontrar el `elemento`, comparando el `elemento` dado con el `valor` del nodo actual y luego recursivamente buscando en el subárbol izquierdo o derecho según sea necesario.\r\n",
    "\r\n",
    "2. **¿Qué hace el método `all?(&bloque)`?**\r\n",
    "   - **Respuesta:** El método `all?(&bloque)` verifica si un `bloque` dado es cierto para todos los elementos en el árbol. Utiliza el método `each` para iterar a través de los elementos y devuelve `false` si el `bloque` devuelve `false` para algún elemento. Si el `bloque` devuelve `true` para todos los elementos, `all?` devuelve `true`.\r\n",
    "\r\n",
    "3. **¿Qué hace el método `any?(&bloque)`?**\r\n",
    "   - **Respuesta:** El método `any?(&bloque)` verifica si un `bloque` dado es cierto para al menos uno de los elementos en el árbol. Utiliza el método `each` para iterar a través de los elementos y devuelve `true` si el `bloque` devuelve `true` para algún elemento. Si el `bloque` devuelve `false` para todos los elementos, `any?` devuelve `false`.\r\n",
    "\r\n",
    "4. **¿Qué hace el método `sort`?**\r\n",
    "   - **Respuesta:** El método `sort` devuelve una versión ordenada de los elementos en el árbol. Utiliza el método `to_a` para convertir los elementos del árbol en un array y lua al método `sort` de Ruby para ordenar ese array. Finalmente, devuelve el array ordenado."
   ]
  }
 ],
 "metadata": {
  "kernelspec": {
   "display_name": "Ruby 3.2.2",
   "language": "ruby",
   "name": "ruby"
  },
  "language_info": {
   "file_extension": ".rb",
   "mimetype": "application/x-ruby",
   "name": "ruby",
   "version": "3.2.2"
  }
 },
 "nbformat": 4,
 "nbformat_minor": 5
}
